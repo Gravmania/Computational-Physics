{
 "cells": [
  {
   "cell_type": "markdown",
   "metadata": {},
   "source": [
    "### exercises 12.1.x"
   ]
  },
  {
   "cell_type": "markdown",
   "metadata": {},
   "source": [
    "Exercise 12.1.1. Revise Example 12.1 so that it uses strings to store a command\n",
    "rather than actual numbers. The virtue of this approach is that it doesn’t risk\n",
    "an exception by using to use an int conversion. (Hint: you can still test the\n",
    "first character to see what digit it contains, if any.)"
   ]
  },
  {
   "cell_type": "code",
   "execution_count": 4,
   "metadata": {},
   "outputs": [
    {
     "name": "stdout",
     "output_type": "stream",
     "text": [
      "Enter command: 1. data entry, 2. query, 3. exit >> 2\n",
      "the phone_dict is empty\n",
      "Enter command: 1. data entry, 2. query, 3. exit >> 1\n",
      "Input name (ENTER to exit): rer\n",
      "Enter phone no: 43\n",
      "Input name (ENTER to exit): \n",
      "Enter command: 1. data entry, 2. query, 3. exit >> 2\n",
      "Enter name (ENTER to exit): rer\n",
      "43\n",
      "Enter name (ENTER to exit): \n",
      "Enter command: 1. data entry, 2. query, 3. exit >> 3\n"
     ]
    }
   ],
   "source": [
    "phone_dict = { }\n",
    "# Main function. Prompts for next command and executes.\n",
    "def main():\n",
    "    while True:\n",
    "        prompt = 'Enter command: 1. data entry, '\n",
    "        prompt += '2. query, 3. exit >> '\n",
    "        s = input(prompt)\n",
    "        if not s: # If string empty, break\n",
    "            break\n",
    "        cmd = s.strip() # not converting to int but instead reading in the first entry\n",
    "        if cmd == '3':  # now comparing to value instead of number, hence the quotation marks\n",
    "            break\n",
    "        if cmd == '1':\n",
    "            add_entries()\n",
    "        elif cmd == '2':\n",
    "            display_entries()\n",
    "# Add Entries function. Prompts for key-value pairs\n",
    "# until user wants to exit. Adds key-value to dict.\n",
    "def add_entries():\n",
    "    while True:\n",
    "        key_str = input('Input name (ENTER to exit): ')\n",
    "        key_str = key_str.strip()\n",
    "        if not key_str: # If key_str empty, return\n",
    "            return\n",
    "        val_str = input('Enter phone no: ')\n",
    "        val_str = val_str.strip()\n",
    "        if not val_str:\n",
    "            return\n",
    "        phone_dict[key_str] = val_str\n",
    "# Display Entries function. Prompts for name & prints\n",
    "# corresponding value. Re-prompts if key not found.\n",
    "def display_entries():\n",
    "    if len(phone_dict) == 0: # added check for empty phone_dict\n",
    "        print (\"the phone_dict is empty\") \n",
    "        return\n",
    "    while True:\n",
    "        key_str = input('Enter name (ENTER to exit): ')\n",
    "        key_str = key_str.strip()\n",
    "        if not key_str: # If string empty, return\n",
    "            return\n",
    "        val_str = phone_dict.get(key_str)\n",
    "        if val_str:\n",
    "            print(val_str)\n",
    "        else:\n",
    "            print('Name not found. Re-enter.')\n",
    "main()"
   ]
  },
  {
   "cell_type": "markdown",
   "metadata": {},
   "source": [
    "Exercise 12.1.2. If the phone book is empty and the user selects command number\n",
    "2 (query), return immediately after stating that it’s empty. (Hint: use the\n",
    "len method.)"
   ]
  },
  {
   "cell_type": "markdown",
   "metadata": {},
   "source": [
    "### See code above"
   ]
  },
  {
   "cell_type": "markdown",
   "metadata": {},
   "source": [
    "Exercise 12.1.3. Write a similar application for a grades dictionary, in which the\n",
    "value field is stored as floating-point. Remember to change user prompts as\n",
    "appropriate."
   ]
  },
  {
   "cell_type": "code",
   "execution_count": 1,
   "metadata": {},
   "outputs": [
    {
     "name": "stdout",
     "output_type": "stream",
     "text": [
      "Enter command: 1. data entry, 2. query, 3. exit >> baa\n",
      "Enter command: 1. data entry, 2. query, 3. exit >> 9\n",
      "Enter command: 1. data entry, 2. query, 3. exit >> aba\n",
      "Enter command: 1. data entry, 2. query, 3. exit >> 8\n",
      "Enter command: 1. data entry, 2. query, 3. exit >> 1\n",
      "Input name (ENTER to exit): aba\n",
      "Enter grade: 2\n",
      "Input name (ENTER to exit): aab\n",
      "Enter grade: 3\n",
      "Input name (ENTER to exit): baa\n",
      "Enter grade: 3\n",
      "Input name (ENTER to exit): \n",
      "Enter command: 1. data entry, 2. query, 3. exit >> 3\n"
     ]
    }
   ],
   "source": [
    "grade_dict = { }\n",
    "# Main function. Prompts for next command and executes.\n",
    "def main():\n",
    "    while True:\n",
    "        prompt = 'Enter command: 1. data entry, '\n",
    "        prompt += '2. query, 3. exit >> '\n",
    "        s = input(prompt)\n",
    "        if not s: # If string empty, break\n",
    "            break\n",
    "        cmd = s.strip() # not converting to int but instead reading in the first entry\n",
    "        if cmd == '3':  # now comparing to value instead of number, hence the quotation marks\n",
    "            break\n",
    "        if cmd == '1':\n",
    "            add_entries()\n",
    "        elif cmd == '2':\n",
    "            display_entries()\n",
    "# Add Entries function. Prompts for key-value pairs\n",
    "# until user wants to exit. Adds key-value to dict.\n",
    "def add_entries():\n",
    "    while True:\n",
    "        key_str = input('Input name (ENTER to exit): ')\n",
    "        key_str = key_str.strip()\n",
    "        if not key_str: # If key_str empty, return\n",
    "            return\n",
    "        val_str = input('Enter grade: ')\n",
    "        val_str_float = float(val_str) #converting the value string to a float\n",
    "        if not val_str:\n",
    "            return\n",
    "        grade_dict[key_str] = val_str_float\n",
    "# Display Entries function. Prompts for name & prints\n",
    "# corresponding value. Re-prompts if key not found.\n",
    "def display_entries():\n",
    "    if len(grade_dict) == 0: # added check for empty phone_dict\n",
    "        print (\"the grade_dict is empty\") \n",
    "        return\n",
    "    while True:\n",
    "        key_str = input('Enter name (ENTER to exit): ')\n",
    "        key_str = key_str.strip()\n",
    "        if not key_str: # If string empty, return\n",
    "            return\n",
    "        val_str_float = grade_dict.get(key_str)\n",
    "        if val_str_float:\n",
    "            print(val_str_float)\n",
    "        else:\n",
    "            print('Name not found. Re-enter.')\n",
    "main()"
   ]
  },
  {
   "cell_type": "markdown",
   "metadata": {},
   "source": [
    "# 12.2.x"
   ]
  },
  {
   "cell_type": "markdown",
   "metadata": {},
   "source": [
    "##### Exercise 12.2.1. Revise Example 12.2 in such a way as to guarantee that the output is in sorted order. (Hint: Step through the items in such a way as to build a list, and then use the sort method on this list.)"
   ]
  },
  {
   "cell_type": "code",
   "execution_count": 1,
   "metadata": {},
   "outputs": [
    {
     "name": "stdout",
     "output_type": "stream",
     "text": [
      "Enter prefix (ENTER to exit): a\n",
      "aab 4\n",
      "aba 3\n",
      "Enter prefix (ENTER to exit): b\n",
      "baa 3\n",
      "bba 2\n",
      "Enter prefix (ENTER to exit): \n"
     ]
    }
   ],
   "source": [
    "grade_dict = {'aba': 3, 'aab': 4, 'bba' :2 ,'baa':3, 'cee':2, 'cdd':1 } #puposefully unalphabetical\n",
    "\n",
    "# Get by Prefix function. Prompt and search dict.\n",
    "def display_by_prefix():\n",
    "    while True:\n",
    "        s = input('Enter prefix (ENTER to exit): ')\n",
    "        s = s.strip()\n",
    "        if not s:\n",
    "            return\n",
    "        \n",
    "        temp_grade_dict = {} # create temp dict to store and reorder\n",
    "        for k, v in grade_dict.items():\n",
    "            if k.startswith(s):\n",
    "                temp_grade_dict[k] = v # building up dict line by line\n",
    "                \n",
    "        for k, v in sorted(temp_grade_dict.items()): # sort the dict\n",
    "            print (k,v) # print line by line\n",
    "            \n",
    "display_by_prefix()"
   ]
  },
  {
   "cell_type": "markdown",
   "metadata": {},
   "source": [
    "###### Exercise 12.2.3. Write and test a “substring” function, which prints all items whose keys contain a substring entered by the user."
   ]
  },
  {
   "cell_type": "code",
   "execution_count": 1,
   "metadata": {},
   "outputs": [
    {
     "name": "stdout",
     "output_type": "stream",
     "text": [
      "Enter substring (ENTER to exit): a\n",
      "aab : 4\n",
      "aba : 3\n",
      "baa : 3\n",
      "bda : 2\n",
      "Enter substring (ENTER to exit): d\n",
      "bda : 2\n",
      "cdd : 1\n",
      "Enter substring (ENTER to exit): \n"
     ]
    }
   ],
   "source": [
    "#puposefully unalphabetical\n",
    "grade_dict = {'cee':2, 'cdd':1,'aba': 3, 'aab': 4, 'bda' :2 ,'baa':3} \n",
    "\n",
    "def display_by_substring():\n",
    "    while True:\n",
    "        substring = input('Enter substring (ENTER to exit): ')\n",
    "        if not substring:\n",
    "            return\n",
    "        \n",
    "        # we'll order the output as a bonus\n",
    "        \n",
    "        temp_grade_dict = {} # create temp dict to store and reorder\n",
    "        for k, v in grade_dict.items():\n",
    "            if substring in k:\n",
    "                temp_grade_dict[k] = v # building up dict line by line\n",
    "            \n",
    "        \n",
    "        for k, v in sorted(temp_grade_dict.items()): # sort the dict\n",
    "            print (k,':',v) # print line by line    \n",
    " \n",
    "display_by_substring()"
   ]
  },
  {
   "cell_type": "markdown",
   "metadata": {},
   "source": [
    "# 12.4.x"
   ]
  },
  {
   "cell_type": "markdown",
   "metadata": {},
   "source": [
    "##### Exercise 12.4.1. Two of the statements in Example 12.4 can be combined in a very easy and trivial way to save a line. Carry out this fix."
   ]
  },
  {
   "cell_type": "markdown",
   "metadata": {},
   "source": [
    "##### Exercise 12.4.2. Revise Example 12.4 so that it prompts the user to enter a number N; then find and print all the prime numbers up to but not including N."
   ]
  },
  {
   "cell_type": "markdown",
   "metadata": {},
   "source": [
    "###### Exercise 12.4.3. Write a program that uses sets, as much as possible, to contain all the even numbers between 1 and 25. Then use the set “difference” operation to produce a set containing all the odd numbers in that range."
   ]
  },
  {
   "cell_type": "code",
   "execution_count": 11,
   "metadata": {},
   "outputs": [
    {
     "name": "stdout",
     "output_type": "stream",
     "text": [
      "{1, 2, 3, 4, 5, 6, 7, 8, 9, 10, 11, 12, 13, 14, 15, 16, 17, 18, 19, 20, 21, 22, 23, 24, 25} \n",
      "\n",
      "{2, 4, 6, 8, 10, 12, 14, 16, 18, 20, 22, 24} \n",
      "\n",
      "{1, 3, 5, 7, 9, 11, 13, 15, 17, 19, 21, 23, 25}\n"
     ]
    }
   ],
   "source": [
    "reals = set(range(1,26))\n",
    "print (reals, '\\n')\n",
    "\n",
    "evens = set(range(2,26,2))\n",
    "print (evens, '\\n')\n",
    "\n",
    "odds = reals - evens\n",
    "print (odds)"
   ]
  },
  {
   "cell_type": "markdown",
   "metadata": {},
   "source": [
    "# Scipy for numerical analysis, Chapter 4"
   ]
  },
  {
   "cell_type": "code",
   "execution_count": 12,
   "metadata": {},
   "outputs": [
    {
     "data": {
      "text/plain": [
       "0.0"
      ]
     },
     "execution_count": 12,
     "metadata": {},
     "output_type": "execute_result"
    }
   ],
   "source": [
    "import numpy\n",
    "import scipy.special\n",
    "a=scipy.special.exp10(-16)\n",
    "numpy.log(1+a)"
   ]
  },
  {
   "cell_type": "code",
   "execution_count": 13,
   "metadata": {},
   "outputs": [
    {
     "data": {
      "text/plain": [
       "1e-16"
      ]
     },
     "execution_count": 13,
     "metadata": {},
     "output_type": "execute_result"
    }
   ],
   "source": [
    "scipy.special.log1p(a)"
   ]
  },
  {
   "cell_type": "code",
   "execution_count": 14,
   "metadata": {},
   "outputs": [
    {
     "name": "stdout",
     "output_type": "stream",
     "text": [
      "   2\n",
      "1 x + 1\n"
     ]
    }
   ],
   "source": [
    "import numpy\n",
    "P1=numpy.poly1d([1,0,1]) # using coefficients\n",
    "print (P1)"
   ]
  },
  {
   "cell_type": "code",
   "execution_count": 15,
   "metadata": {},
   "outputs": [
    {
     "name": "stdout",
     "output_type": "stream",
     "text": [
      "[-0.+1.j  0.-1.j]\n",
      "2\n",
      " \n",
      "2 x\n"
     ]
    }
   ],
   "source": [
    "print (P1.r); print (P1.o); print (P1.deriv())"
   ]
  },
  {
   "cell_type": "code",
   "execution_count": 18,
   "metadata": {},
   "outputs": [
    {
     "name": "stdout",
     "output_type": "stream",
     "text": [
      "   3     2\n",
      "1 x - 3 x + 3 x - 1\n"
     ]
    }
   ],
   "source": [
    "P2=numpy.poly1d([1,1,1], True) # using roots\n",
    "print (P2)"
   ]
  },
  {
   "cell_type": "code",
   "execution_count": 19,
   "metadata": {},
   "outputs": [
    {
     "name": "stdout",
     "output_type": "stream",
     "text": [
      "   3     2\n",
      "1 z - 3 z + 3 z - 1\n"
     ]
    }
   ],
   "source": [
    "P2=numpy.poly1d([1,1,1], True, variable='z')\n",
    "print (P2)"
   ]
  },
  {
   "cell_type": "code",
   "execution_count": 20,
   "metadata": {},
   "outputs": [
    {
     "data": {
      "text/plain": [
       "array([ 1,  2,  5, 10, 17, 26, 37, 50, 65, 82])"
      ]
     },
     "execution_count": 20,
     "metadata": {},
     "output_type": "execute_result"
    }
   ],
   "source": [
    "P1( numpy.arange(10) ) # evaluate at 0,1,...,9"
   ]
  },
  {
   "cell_type": "code",
   "execution_count": 21,
   "metadata": {},
   "outputs": [
    {
     "data": {
      "text/plain": [
       "array([ 1,  2,  5, 10, 17, 26, 37, 50, 65, 82])"
      ]
     },
     "execution_count": 21,
     "metadata": {},
     "output_type": "execute_result"
    }
   ],
   "source": [
    "P1.__call__(numpy.arange(10)) # same evaluation"
   ]
  },
  {
   "cell_type": "code",
   "execution_count": 16,
   "metadata": {},
   "outputs": [
    {
     "name": "stdout",
     "output_type": "stream",
     "text": [
      "      2\n",
      "-0.5 x + 1 x\n"
     ]
    }
   ],
   "source": [
    "import numpy\n",
    "Px=numpy.poly1d([-(1./2.),1,0])\n",
    "print(Px)"
   ]
  },
  {
   "cell_type": "code",
   "execution_count": 17,
   "metadata": {},
   "outputs": [
    {
     "name": "stdout",
     "output_type": "stream",
     "text": [
      "1e-16\n"
     ]
    }
   ],
   "source": [
    "a=1./10000000000000000.\n",
    "print(a)"
   ]
  },
  {
   "cell_type": "code",
   "execution_count": 22,
   "metadata": {},
   "outputs": [
    {
     "data": {
      "text/plain": [
       "1e-16"
      ]
     },
     "execution_count": 22,
     "metadata": {},
     "output_type": "execute_result"
    }
   ],
   "source": [
    "Px(a)"
   ]
  },
  {
   "cell_type": "code",
   "execution_count": 23,
   "metadata": {},
   "outputs": [
    {
     "name": "stdout",
     "output_type": "stream",
     "text": [
      "   2\n",
      "1 x + 1\n"
     ]
    }
   ],
   "source": [
    "P1=numpy.poly1d([1,0,1])\n",
    "print(P1)"
   ]
  },
  {
   "cell_type": "code",
   "execution_count": 24,
   "metadata": {},
   "outputs": [
    {
     "name": "stdout",
     "output_type": "stream",
     "text": [
      "   2\n",
      "1 x + 2 x + 2\n"
     ]
    }
   ],
   "source": [
    "print(numpy.polyadd(P1, numpy.poly1d([2,1])))"
   ]
  },
  {
   "cell_type": "code",
   "execution_count": 25,
   "metadata": {},
   "outputs": [
    {
     "name": "stdout",
     "output_type": "stream",
     "text": [
      "   2\n",
      "1 x + 2 x + 2\n"
     ]
    }
   ],
   "source": [
    "print(numpy.polyadd(P1, [2,1]))"
   ]
  },
  {
   "cell_type": "code",
   "execution_count": 26,
   "metadata": {},
   "outputs": [
    {
     "name": "stdout",
     "output_type": "stream",
     "text": [
      "   2\n",
      "1 x + 2 x + 2\n"
     ]
    }
   ],
   "source": [
    "print(P1 + numpy.poly1d([2,1]))"
   ]
  },
  {
   "cell_type": "code",
   "execution_count": 27,
   "metadata": {},
   "outputs": [
    {
     "name": "stdout",
     "output_type": "stream",
     "text": [
      "   2\n",
      "1 x + 2 x + 2\n"
     ]
    }
   ],
   "source": [
    "print(P1 + [2,1])"
   ]
  },
  {
   "cell_type": "code",
   "execution_count": 28,
   "metadata": {},
   "outputs": [
    {
     "data": {
      "text/plain": [
       "(poly1d([ 0.5 , -0.25]), poly1d([1.25]))"
      ]
     },
     "execution_count": 28,
     "metadata": {},
     "output_type": "execute_result"
    }
   ],
   "source": [
    "P1/[2,1]"
   ]
  },
  {
   "cell_type": "code",
   "execution_count": 29,
   "metadata": {},
   "outputs": [
    {
     "ename": "NameError",
     "evalue": "name 'eval_jacobi' is not defined",
     "output_type": "error",
     "traceback": [
      "\u001b[0;31m---------------------------------------------------------------------------\u001b[0m",
      "\u001b[0;31mNameError\u001b[0m                                 Traceback (most recent call last)",
      "\u001b[0;32m<ipython-input-29-ed656176dc4b>\u001b[0m in \u001b[0;36m<module>\u001b[0;34m\u001b[0m\n\u001b[0;32m----> 1\u001b[0;31m \u001b[0meval_jacobi\u001b[0m\u001b[0;34m(\u001b[0m\u001b[0mn\u001b[0m\u001b[0;34m,\u001b[0m \u001b[0malpha\u001b[0m\u001b[0;34m,\u001b[0m \u001b[0mbeta\u001b[0m\u001b[0;34m,\u001b[0m \u001b[0mx\u001b[0m\u001b[0;34m)\u001b[0m\u001b[0;34m\u001b[0m\u001b[0;34m\u001b[0m\u001b[0m\n\u001b[0m",
      "\u001b[0;31mNameError\u001b[0m: name 'eval_jacobi' is not defined"
     ]
    }
   ],
   "source": [
    "eval_jacobi(n, alpha, beta, x)"
   ]
  },
  {
   "cell_type": "code",
   "execution_count": 31,
   "metadata": {},
   "outputs": [
    {
     "data": {
      "image/png": "[encoded data removed]",
      "text/plain": [
       "<Figure size 432x288 with 1 Axes>"
      ]
     },
     "metadata": {
      "needs_background": "light"
     },
     "output_type": "display_data"
    }
   ],
   "source": [
    "import numpy\n",
    "import scipy.special\n",
    "import matplotlib.pyplot as plt\n",
    "x=numpy.linspace(-1,1,1000)\n",
    "plt.plot(x,scipy.special.eval_jacobi(3,0,1,x))\n",
    "plt.show()"
   ]
  },
  {
   "cell_type": "code",
   "execution_count": 32,
   "metadata": {},
   "outputs": [
    {
     "data": {
      "text/plain": [
       "345387763949.1068"
      ]
     },
     "execution_count": 32,
     "metadata": {},
     "output_type": "execute_result"
    }
   ],
   "source": [
    "import scipy.special\n",
    "10**10*scipy.special.psi(10**15)"
   ]
  },
  {
   "cell_type": "code",
   "execution_count": 33,
   "metadata": {},
   "outputs": [
    {
     "data": {
      "image/png": "[encoded data removed]",
      "text/plain": [
       "<Figure size 432x288 with 2 Axes>"
      ]
     },
     "metadata": {
      "needs_background": "light"
     },
     "output_type": "display_data"
    }
   ],
   "source": [
    "import numpy\n",
    "import scipy.special\n",
    "import matplotlib.pyplot as plt\n",
    "import mpl_toolkits.mplot3d\n",
    "x=numpy.mgrid[-4:4:100j,-4:4:100j]\n",
    "z=x[0]+1j*x[1]\n",
    "(Ai, Aip, Bi, Bip) = scipy.special.airy(z)\n",
    "steps = range(int(Bi.real.min()), int(Bi.real.max()),6)\n",
    "fig=plt.figure()\n",
    "subplot1=fig.add_subplot(121,aspect='equal')\n",
    "subplot1.contourf(x[0], x[1], Bi.real, steps)\n",
    "subplot2=fig.add_subplot(122,projection='3d')\n",
    "subplot2.plot_surface(x[0],x[1],Bi.real)\n",
    "plt.show()"
   ]
  },
  {
   "cell_type": "code",
   "execution_count": 34,
   "metadata": {},
   "outputs": [
    {
     "data": {
      "text/plain": [
       "0.05214118436711846"
      ]
     },
     "execution_count": 34,
     "metadata": {},
     "output_type": "execute_result"
    }
   ],
   "source": [
    "import numpy\n",
    "import scipy.special\n",
    "scipy.special.jn(5,numpy.pi)"
   ]
  },
  {
   "cell_type": "markdown",
   "metadata": {},
   "source": [
    "## project "
   ]
  },
  {
   "cell_type": "markdown",
   "metadata": {},
   "source": [
    "### Gamma functions.\n",
    "They can be used to compute factorials of fractions, for instance (n+1/2)!   \n",
    "A use in physics is the calculation of the volume of higher dimensional spheres which is useful in string theory.  \n",
    "\n",
    "http://sces.phys.utk.edu/~moreo/mm08/Riddi.pdf"
   ]
  },
  {
   "cell_type": "markdown",
   "metadata": {},
   "source": [
    "## Riemann Zeta Function (3 pts)"
   ]
  },
  {
   "cell_type": "markdown",
   "metadata": {},
   "source": [
    "Riemann Zeta has a great list of uses in the field of integration as well as a relation to prime numbers.  \n",
    "this relations to prime number is very useful in nuclear physics.  \n",
    "The non-trivial zeros of the zeta function contain a lot of information regarding the prime numbers.And these zeroes are related to the eigen-values of a certain random matrices.  \n",
    "These random matrices are used to model and predict the energies of radio-active nuclei.\n",
    "\n",
    "https://www.quora.com/Is-the-Riemann-Zeta-function-important-in-physics"
   ]
  },
  {
   "cell_type": "markdown",
   "metadata": {},
   "source": []
  }
 ],
 "metadata": {
  "kernelspec": {
   "display_name": "Python 3",
   "language": "python",
   "name": "python3"
  },
  "language_info": {
   "codemirror_mode": {
    "name": "ipython",
    "version": 3
   },
   "file_extension": ".py",
   "mimetype": "text/x-python",
   "name": "python",
   "nbconvert_exporter": "python",
   "pygments_lexer": "ipython3",
   "version": "3.7.1"
  }
 },
 "nbformat": 4,
 "nbformat_minor": 2
}
